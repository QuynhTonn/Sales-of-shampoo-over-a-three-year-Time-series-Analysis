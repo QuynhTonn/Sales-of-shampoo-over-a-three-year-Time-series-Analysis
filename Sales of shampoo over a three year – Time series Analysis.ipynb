{
 "cells": [
  {
   "cell_type": "markdown",
   "metadata": {},
   "source": [
    "## 1. Sales of shampoo over a three year – Time series Analysis"
   ]
  },
  {
   "cell_type": "markdown",
   "metadata": {},
   "source": [
    "### 1. Đọc dữ liệu"
   ]
  },
  {
   "cell_type": "code",
   "execution_count": 1,
   "metadata": {},
   "outputs": [],
   "source": [
    "shampoo = read.csv(\"Du lieu cung cap/sales-of-shampoo-over-a-three-year.csv\")"
   ]
  },
  {
   "cell_type": "markdown",
   "metadata": {},
   "source": [
    "### 2. Xem các thông tin chung"
   ]
  },
  {
   "cell_type": "code",
   "execution_count": 2,
   "metadata": {},
   "outputs": [
    {
     "data": {
      "text/html": [
       "<table class=\"dataframe\">\n",
       "<caption>A data.frame: 6 × 2</caption>\n",
       "<thead>\n",
       "\t<tr><th></th><th scope=col>Month</th><th scope=col>Sales.of.shampoo.over.a.three.year.period</th></tr>\n",
       "\t<tr><th></th><th scope=col>&lt;chr&gt;</th><th scope=col>&lt;dbl&gt;</th></tr>\n",
       "</thead>\n",
       "<tbody>\n",
       "\t<tr><th scope=row>1</th><td>Friday, January 1, 2016 </td><td>266.0</td></tr>\n",
       "\t<tr><th scope=row>2</th><td>Monday, February 1, 2016</td><td>145.9</td></tr>\n",
       "\t<tr><th scope=row>3</th><td>Tuesday, March 1, 2016  </td><td>183.1</td></tr>\n",
       "\t<tr><th scope=row>4</th><td>Friday, April 1, 2016   </td><td>119.3</td></tr>\n",
       "\t<tr><th scope=row>5</th><td>Sunday, May 1, 2016     </td><td>180.3</td></tr>\n",
       "\t<tr><th scope=row>6</th><td>Wednesday, June 1, 2016 </td><td>168.5</td></tr>\n",
       "</tbody>\n",
       "</table>\n"
      ],
      "text/latex": [
       "A data.frame: 6 × 2\n",
       "\\begin{tabular}{r|ll}\n",
       "  & Month & Sales.of.shampoo.over.a.three.year.period\\\\\n",
       "  & <chr> & <dbl>\\\\\n",
       "\\hline\n",
       "\t1 & Friday, January 1, 2016  & 266.0\\\\\n",
       "\t2 & Monday, February 1, 2016 & 145.9\\\\\n",
       "\t3 & Tuesday, March 1, 2016   & 183.1\\\\\n",
       "\t4 & Friday, April 1, 2016    & 119.3\\\\\n",
       "\t5 & Sunday, May 1, 2016      & 180.3\\\\\n",
       "\t6 & Wednesday, June 1, 2016  & 168.5\\\\\n",
       "\\end{tabular}\n"
      ],
      "text/markdown": [
       "\n",
       "A data.frame: 6 × 2\n",
       "\n",
       "| <!--/--> | Month &lt;chr&gt; | Sales.of.shampoo.over.a.three.year.period &lt;dbl&gt; |\n",
       "|---|---|---|\n",
       "| 1 | Friday, January 1, 2016  | 266.0 |\n",
       "| 2 | Monday, February 1, 2016 | 145.9 |\n",
       "| 3 | Tuesday, March 1, 2016   | 183.1 |\n",
       "| 4 | Friday, April 1, 2016    | 119.3 |\n",
       "| 5 | Sunday, May 1, 2016      | 180.3 |\n",
       "| 6 | Wednesday, June 1, 2016  | 168.5 |\n",
       "\n"
      ],
      "text/plain": [
       "  Month                    Sales.of.shampoo.over.a.three.year.period\n",
       "1 Friday, January 1, 2016  266.0                                    \n",
       "2 Monday, February 1, 2016 145.9                                    \n",
       "3 Tuesday, March 1, 2016   183.1                                    \n",
       "4 Friday, April 1, 2016    119.3                                    \n",
       "5 Sunday, May 1, 2016      180.3                                    \n",
       "6 Wednesday, June 1, 2016  168.5                                    "
      ]
     },
     "metadata": {},
     "output_type": "display_data"
    }
   ],
   "source": [
    "head(shampoo)"
   ]
  },
  {
   "cell_type": "code",
   "execution_count": 3,
   "metadata": {},
   "outputs": [
    {
     "data": {
      "text/html": [
       "<table class=\"dataframe\">\n",
       "<caption>A data.frame: 6 × 2</caption>\n",
       "<thead>\n",
       "\t<tr><th></th><th scope=col>Month</th><th scope=col>Sales.of.shampoo.over.a.three.year.period</th></tr>\n",
       "\t<tr><th></th><th scope=col>&lt;chr&gt;</th><th scope=col>&lt;dbl&gt;</th></tr>\n",
       "</thead>\n",
       "<tbody>\n",
       "\t<tr><th scope=row>31</th><td>Sunday, July 1, 2018       </td><td>575.5</td></tr>\n",
       "\t<tr><th scope=row>32</th><td>Wednesday, August 1, 2018  </td><td>407.6</td></tr>\n",
       "\t<tr><th scope=row>33</th><td>Saturday, September 1, 2018</td><td>682.0</td></tr>\n",
       "\t<tr><th scope=row>34</th><td>Monday, October 1, 2018    </td><td>475.3</td></tr>\n",
       "\t<tr><th scope=row>35</th><td>Thursday, November 1, 2018 </td><td>581.3</td></tr>\n",
       "\t<tr><th scope=row>36</th><td>Saturday, December 1, 2018 </td><td>646.9</td></tr>\n",
       "</tbody>\n",
       "</table>\n"
      ],
      "text/latex": [
       "A data.frame: 6 × 2\n",
       "\\begin{tabular}{r|ll}\n",
       "  & Month & Sales.of.shampoo.over.a.three.year.period\\\\\n",
       "  & <chr> & <dbl>\\\\\n",
       "\\hline\n",
       "\t31 & Sunday, July 1, 2018        & 575.5\\\\\n",
       "\t32 & Wednesday, August 1, 2018   & 407.6\\\\\n",
       "\t33 & Saturday, September 1, 2018 & 682.0\\\\\n",
       "\t34 & Monday, October 1, 2018     & 475.3\\\\\n",
       "\t35 & Thursday, November 1, 2018  & 581.3\\\\\n",
       "\t36 & Saturday, December 1, 2018  & 646.9\\\\\n",
       "\\end{tabular}\n"
      ],
      "text/markdown": [
       "\n",
       "A data.frame: 6 × 2\n",
       "\n",
       "| <!--/--> | Month &lt;chr&gt; | Sales.of.shampoo.over.a.three.year.period &lt;dbl&gt; |\n",
       "|---|---|---|\n",
       "| 31 | Sunday, July 1, 2018        | 575.5 |\n",
       "| 32 | Wednesday, August 1, 2018   | 407.6 |\n",
       "| 33 | Saturday, September 1, 2018 | 682.0 |\n",
       "| 34 | Monday, October 1, 2018     | 475.3 |\n",
       "| 35 | Thursday, November 1, 2018  | 581.3 |\n",
       "| 36 | Saturday, December 1, 2018  | 646.9 |\n",
       "\n"
      ],
      "text/plain": [
       "   Month                       Sales.of.shampoo.over.a.three.year.period\n",
       "31 Sunday, July 1, 2018        575.5                                    \n",
       "32 Wednesday, August 1, 2018   407.6                                    \n",
       "33 Saturday, September 1, 2018 682.0                                    \n",
       "34 Monday, October 1, 2018     475.3                                    \n",
       "35 Thursday, November 1, 2018  581.3                                    \n",
       "36 Saturday, December 1, 2018  646.9                                    "
      ]
     },
     "metadata": {},
     "output_type": "display_data"
    }
   ],
   "source": [
    "tail(shampoo)"
   ]
  },
  {
   "cell_type": "code",
   "execution_count": 4,
   "metadata": {},
   "outputs": [
    {
     "name": "stdout",
     "output_type": "stream",
     "text": [
      "[1] \"Number of rows: 36\"\n",
      "[1] \"Number of cols: 2\"\n"
     ]
    }
   ],
   "source": [
    "print(paste(\"Number of rows:\", nrow(shampoo)))\n",
    "print(paste(\"Number of cols:\", ncol(shampoo)))"
   ]
  },
  {
   "cell_type": "code",
   "execution_count": 5,
   "metadata": {},
   "outputs": [
    {
     "name": "stdout",
     "output_type": "stream",
     "text": [
      "'data.frame':\t36 obs. of  2 variables:\n",
      " $ Month                                    : chr  \"Friday, January 1, 2016\" \"Monday, February 1, 2016\" \"Tuesday, March 1, 2016\" \"Friday, April 1, 2016\" ...\n",
      " $ Sales.of.shampoo.over.a.three.year.period: num  266 146 183 119 180 ...\n"
     ]
    }
   ],
   "source": [
    "str(shampoo)"
   ]
  },
  {
   "cell_type": "code",
   "execution_count": 6,
   "metadata": {},
   "outputs": [
    {
     "data": {
      "text/plain": [
       "    Month           Sales.of.shampoo.over.a.three.year.period\n",
       " Length:36          Min.   :119.3                            \n",
       " Class :character   1st Qu.:192.4                            \n",
       " Mode  :character   Median :280.1                            \n",
       "                    Mean   :312.6                            \n",
       "                    3rd Qu.:411.1                            \n",
       "                    Max.   :682.0                            "
      ]
     },
     "metadata": {},
     "output_type": "display_data"
    }
   ],
   "source": [
    "summary(shampoo)"
   ]
  },
  {
   "cell_type": "markdown",
   "metadata": {},
   "source": [
    "### 3. Chuyển dữ liệu này thành Time Series object => in Time Series object."
   ]
  },
  {
   "cell_type": "code",
   "execution_count": 7,
   "metadata": {},
   "outputs": [
    {
     "name": "stdout",
     "output_type": "stream",
     "text": [
      "[1] \"Shampoo time series:\"\n"
     ]
    },
    {
     "data": {
      "text/html": [
       "<table class=\"dataframe\">\n",
       "<caption>A Time Series: 3 × 12</caption>\n",
       "<thead>\n",
       "\t<tr><th></th><th scope=col>Jan</th><th scope=col>Feb</th><th scope=col>Mar</th><th scope=col>Apr</th><th scope=col>May</th><th scope=col>Jun</th><th scope=col>Jul</th><th scope=col>Aug</th><th scope=col>Sep</th><th scope=col>Oct</th><th scope=col>Nov</th><th scope=col>Dec</th></tr>\n",
       "</thead>\n",
       "<tbody>\n",
       "\t<tr><th scope=row>2016</th><td>266.0</td><td>145.9</td><td>183.1</td><td>119.3</td><td>180.3</td><td>168.5</td><td>231.8</td><td>224.5</td><td>192.8</td><td>122.9</td><td>336.5</td><td>185.9</td></tr>\n",
       "\t<tr><th scope=row>2017</th><td>194.3</td><td>149.5</td><td>210.1</td><td>273.3</td><td>191.4</td><td>287.0</td><td>226.0</td><td>303.6</td><td>289.9</td><td>421.6</td><td>264.5</td><td>342.3</td></tr>\n",
       "\t<tr><th scope=row>2018</th><td>339.7</td><td>440.4</td><td>315.9</td><td>439.3</td><td>401.3</td><td>437.4</td><td>575.5</td><td>407.6</td><td>682.0</td><td>475.3</td><td>581.3</td><td>646.9</td></tr>\n",
       "</tbody>\n",
       "</table>\n"
      ],
      "text/latex": [
       "A Time Series: 3 × 12\n",
       "\\begin{tabular}{r|llllllllllll}\n",
       "  & Jan & Feb & Mar & Apr & May & Jun & Jul & Aug & Sep & Oct & Nov & Dec\\\\\n",
       "\\hline\n",
       "\t2016 & 266.0 & 145.9 & 183.1 & 119.3 & 180.3 & 168.5 & 231.8 & 224.5 & 192.8 & 122.9 & 336.5 & 185.9\\\\\n",
       "\t2017 & 194.3 & 149.5 & 210.1 & 273.3 & 191.4 & 287.0 & 226.0 & 303.6 & 289.9 & 421.6 & 264.5 & 342.3\\\\\n",
       "\t2018 & 339.7 & 440.4 & 315.9 & 439.3 & 401.3 & 437.4 & 575.5 & 407.6 & 682.0 & 475.3 & 581.3 & 646.9\\\\\n",
       "\\end{tabular}\n"
      ],
      "text/markdown": [
       "\n",
       "A Time Series: 3 × 12\n",
       "\n",
       "| <!--/--> | Jan | Feb | Mar | Apr | May | Jun | Jul | Aug | Sep | Oct | Nov | Dec |\n",
       "|---|---|---|---|---|---|---|---|---|---|---|---|---|\n",
       "| 2016 | 266.0 | 145.9 | 183.1 | 119.3 | 180.3 | 168.5 | 231.8 | 224.5 | 192.8 | 122.9 | 336.5 | 185.9 |\n",
       "| 2017 | 194.3 | 149.5 | 210.1 | 273.3 | 191.4 | 287.0 | 226.0 | 303.6 | 289.9 | 421.6 | 264.5 | 342.3 |\n",
       "| 2018 | 339.7 | 440.4 | 315.9 | 439.3 | 401.3 | 437.4 | 575.5 | 407.6 | 682.0 | 475.3 | 581.3 | 646.9 |\n",
       "\n"
      ],
      "text/plain": [
       "     Jan   Feb   Mar   Apr   May   Jun   Jul   Aug   Sep   Oct   Nov   Dec  \n",
       "2016 266.0 145.9 183.1 119.3 180.3 168.5 231.8 224.5 192.8 122.9 336.5 185.9\n",
       "2017 194.3 149.5 210.1 273.3 191.4 287.0 226.0 303.6 289.9 421.6 264.5 342.3\n",
       "2018 339.7 440.4 315.9 439.3 401.3 437.4 575.5 407.6 682.0 475.3 581.3 646.9"
      ]
     },
     "metadata": {},
     "output_type": "display_data"
    }
   ],
   "source": [
    "print(\"Shampoo time series:\")\n",
    "shampoo.timeseries = ts(shampoo$Sales.of.shampoo.over.a.three.year.period, start=c(2016,1), frequency=12)\n",
    "shampoo.timeseries"
   ]
  },
  {
   "cell_type": "markdown",
   "metadata": {},
   "source": [
    "### 4. Vẽ Time Series object vừa tạo. "
   ]
  },
  {
   "cell_type": "code",
   "execution_count": 21,
   "metadata": {},
   "outputs": [
    {
     "data": {
      "image/png": "[encoded data removed]",
      "text/plain": [
       "Plot with title \"Sales of shampoo from 01/2016 to 12/2018\""
      ]
     },
     "metadata": {
      "image/png": {
       "height": 420,
       "width": 420
      }
     },
     "output_type": "display_data"
    }
   ],
   "source": [
    "plot.ts(shampoo.timeseries, main=\"Sales of shampoo from 01/2016 to 12/2018\", \n",
    "       ylab=\"mm\",xlab=\"month\",col=\"blue\",xaxt=\"n\")\n",
    "axis(1,at=2016:2018,labels=c(2016:2018))"
   ]
  },
  {
   "cell_type": "markdown",
   "metadata": {},
   "source": [
    "Nhận xét\n",
    "* Có thể thấy từ biểu đồ này một chu kỳ mang tính mùa và xu hướng năm\n",
    "* Từ năm 2017, số lượng tre bán được có xu hướng tăng"
   ]
  },
  {
   "cell_type": "markdown",
   "metadata": {},
   "source": [
    "### 5. Thực hiện việc decompostition, nhận xét."
   ]
  },
  {
   "cell_type": "code",
   "execution_count": 9,
   "metadata": {},
   "outputs": [
    {
     "data": {
      "text/html": [
       "<table class=\"dataframe\">\n",
       "<caption>A Time Series: 3 × 12</caption>\n",
       "<thead>\n",
       "\t<tr><th></th><th scope=col>Jan</th><th scope=col>Feb</th><th scope=col>Mar</th><th scope=col>Apr</th><th scope=col>May</th><th scope=col>Jun</th><th scope=col>Jul</th><th scope=col>Aug</th><th scope=col>Sep</th><th scope=col>Oct</th><th scope=col>Nov</th><th scope=col>Dec</th></tr>\n",
       "</thead>\n",
       "<tbody>\n",
       "\t<tr><th scope=row>2016</th><td>266.0</td><td>145.9</td><td>183.1</td><td>119.3</td><td>180.3</td><td>168.5</td><td>231.8</td><td>224.5</td><td>192.8</td><td>122.9</td><td>336.5</td><td>185.9</td></tr>\n",
       "\t<tr><th scope=row>2017</th><td>194.3</td><td>149.5</td><td>210.1</td><td>273.3</td><td>191.4</td><td>287.0</td><td>226.0</td><td>303.6</td><td>289.9</td><td>421.6</td><td>264.5</td><td>342.3</td></tr>\n",
       "\t<tr><th scope=row>2018</th><td>339.7</td><td>440.4</td><td>315.9</td><td>439.3</td><td>401.3</td><td>437.4</td><td>575.5</td><td>407.6</td><td>682.0</td><td>475.3</td><td>581.3</td><td>646.9</td></tr>\n",
       "</tbody>\n",
       "</table>\n"
      ],
      "text/latex": [
       "A Time Series: 3 × 12\n",
       "\\begin{tabular}{r|llllllllllll}\n",
       "  & Jan & Feb & Mar & Apr & May & Jun & Jul & Aug & Sep & Oct & Nov & Dec\\\\\n",
       "\\hline\n",
       "\t2016 & 266.0 & 145.9 & 183.1 & 119.3 & 180.3 & 168.5 & 231.8 & 224.5 & 192.8 & 122.9 & 336.5 & 185.9\\\\\n",
       "\t2017 & 194.3 & 149.5 & 210.1 & 273.3 & 191.4 & 287.0 & 226.0 & 303.6 & 289.9 & 421.6 & 264.5 & 342.3\\\\\n",
       "\t2018 & 339.7 & 440.4 & 315.9 & 439.3 & 401.3 & 437.4 & 575.5 & 407.6 & 682.0 & 475.3 & 581.3 & 646.9\\\\\n",
       "\\end{tabular}\n"
      ],
      "text/markdown": [
       "\n",
       "A Time Series: 3 × 12\n",
       "\n",
       "| <!--/--> | Jan | Feb | Mar | Apr | May | Jun | Jul | Aug | Sep | Oct | Nov | Dec |\n",
       "|---|---|---|---|---|---|---|---|---|---|---|---|---|\n",
       "| 2016 | 266.0 | 145.9 | 183.1 | 119.3 | 180.3 | 168.5 | 231.8 | 224.5 | 192.8 | 122.9 | 336.5 | 185.9 |\n",
       "| 2017 | 194.3 | 149.5 | 210.1 | 273.3 | 191.4 | 287.0 | 226.0 | 303.6 | 289.9 | 421.6 | 264.5 | 342.3 |\n",
       "| 2018 | 339.7 | 440.4 | 315.9 | 439.3 | 401.3 | 437.4 | 575.5 | 407.6 | 682.0 | 475.3 | 581.3 | 646.9 |\n",
       "\n"
      ],
      "text/plain": [
       "     Jan   Feb   Mar   Apr   May   Jun   Jul   Aug   Sep   Oct   Nov   Dec  \n",
       "2016 266.0 145.9 183.1 119.3 180.3 168.5 231.8 224.5 192.8 122.9 336.5 185.9\n",
       "2017 194.3 149.5 210.1 273.3 191.4 287.0 226.0 303.6 289.9 421.6 264.5 342.3\n",
       "2018 339.7 440.4 315.9 439.3 401.3 437.4 575.5 407.6 682.0 475.3 581.3 646.9"
      ]
     },
     "metadata": {},
     "output_type": "display_data"
    }
   ],
   "source": [
    "comp = decompose(shampoo.timeseries)\n",
    "comp$x"
   ]
  },
  {
   "cell_type": "code",
   "execution_count": 10,
   "metadata": {},
   "outputs": [
    {
     "data": {
      "text/html": [
       "<table class=\"dataframe\">\n",
       "<caption>A Time Series: 3 × 12</caption>\n",
       "<thead>\n",
       "\t<tr><th></th><th scope=col>Jan</th><th scope=col>Feb</th><th scope=col>Mar</th><th scope=col>Apr</th><th scope=col>May</th><th scope=col>Jun</th><th scope=col>Jul</th><th scope=col>Aug</th><th scope=col>Sep</th><th scope=col>Oct</th><th scope=col>Nov</th><th scope=col>Dec</th></tr>\n",
       "</thead>\n",
       "<tbody>\n",
       "\t<tr><th scope=row>2016</th><td>-19.193924</td><td> -2.218924</td><td>-48.175174</td><td> 27.591493</td><td>-44.800174</td><td>  6.345660</td><td>  2.951910</td><td> 30.431076</td><td> -1.171007</td><td> 20.295660</td><td> 37.274826</td><td> -9.331424</td></tr>\n",
       "\t<tr><th scope=row>2017</th><td>-19.193924</td><td> -2.218924</td><td>-48.175174</td><td> 27.591493</td><td>-44.800174</td><td>  6.345660</td><td>  2.951910</td><td> 30.431076</td><td> -1.171007</td><td> 20.295660</td><td> 37.274826</td><td> -9.331424</td></tr>\n",
       "\t<tr><th scope=row>2018</th><td>-19.193924</td><td> -2.218924</td><td>-48.175174</td><td> 27.591493</td><td>-44.800174</td><td>  6.345660</td><td>  2.951910</td><td> 30.431076</td><td> -1.171007</td><td> 20.295660</td><td> 37.274826</td><td> -9.331424</td></tr>\n",
       "</tbody>\n",
       "</table>\n"
      ],
      "text/latex": [
       "A Time Series: 3 × 12\n",
       "\\begin{tabular}{r|llllllllllll}\n",
       "  & Jan & Feb & Mar & Apr & May & Jun & Jul & Aug & Sep & Oct & Nov & Dec\\\\\n",
       "\\hline\n",
       "\t2016 & -19.193924 &  -2.218924 & -48.175174 &  27.591493 & -44.800174 &   6.345660 &   2.951910 &  30.431076 &  -1.171007 &  20.295660 &  37.274826 &  -9.331424\\\\\n",
       "\t2017 & -19.193924 &  -2.218924 & -48.175174 &  27.591493 & -44.800174 &   6.345660 &   2.951910 &  30.431076 &  -1.171007 &  20.295660 &  37.274826 &  -9.331424\\\\\n",
       "\t2018 & -19.193924 &  -2.218924 & -48.175174 &  27.591493 & -44.800174 &   6.345660 &   2.951910 &  30.431076 &  -1.171007 &  20.295660 &  37.274826 &  -9.331424\\\\\n",
       "\\end{tabular}\n"
      ],
      "text/markdown": [
       "\n",
       "A Time Series: 3 × 12\n",
       "\n",
       "| <!--/--> | Jan | Feb | Mar | Apr | May | Jun | Jul | Aug | Sep | Oct | Nov | Dec |\n",
       "|---|---|---|---|---|---|---|---|---|---|---|---|---|\n",
       "| 2016 | -19.193924 |  -2.218924 | -48.175174 |  27.591493 | -44.800174 |   6.345660 |   2.951910 |  30.431076 |  -1.171007 |  20.295660 |  37.274826 |  -9.331424 |\n",
       "| 2017 | -19.193924 |  -2.218924 | -48.175174 |  27.591493 | -44.800174 |   6.345660 |   2.951910 |  30.431076 |  -1.171007 |  20.295660 |  37.274826 |  -9.331424 |\n",
       "| 2018 | -19.193924 |  -2.218924 | -48.175174 |  27.591493 | -44.800174 |   6.345660 |   2.951910 |  30.431076 |  -1.171007 |  20.295660 |  37.274826 |  -9.331424 |\n",
       "\n"
      ],
      "text/plain": [
       "     Jan        Feb        Mar        Apr        May        Jun       \n",
       "2016 -19.193924  -2.218924 -48.175174  27.591493 -44.800174   6.345660\n",
       "2017 -19.193924  -2.218924 -48.175174  27.591493 -44.800174   6.345660\n",
       "2018 -19.193924  -2.218924 -48.175174  27.591493 -44.800174   6.345660\n",
       "     Jul        Aug        Sep        Oct        Nov        Dec       \n",
       "2016   2.951910  30.431076  -1.171007  20.295660  37.274826  -9.331424\n",
       "2017   2.951910  30.431076  -1.171007  20.295660  37.274826  -9.331424\n",
       "2018   2.951910  30.431076  -1.171007  20.295660  37.274826  -9.331424"
      ]
     },
     "metadata": {},
     "output_type": "display_data"
    }
   ],
   "source": [
    "comp$seasonal"
   ]
  },
  {
   "cell_type": "markdown",
   "metadata": {},
   "source": [
    "Nhận xét: Trong seasonal, yếu tố seasonal cao nhất vào tháng 11 và thấp nhất vào tháng 3. Như vậy tháng có nhiều tre được bán nhất là tháng 11, ít nhất là tháng 3"
   ]
  },
  {
   "cell_type": "code",
   "execution_count": 11,
   "metadata": {},
   "outputs": [
    {
     "data": {
      "text/html": [
       "<table class=\"dataframe\">\n",
       "<caption>A Time Series: 3 × 12</caption>\n",
       "<thead>\n",
       "\t<tr><th></th><th scope=col>Jan</th><th scope=col>Feb</th><th scope=col>Mar</th><th scope=col>Apr</th><th scope=col>May</th><th scope=col>Jun</th><th scope=col>Jul</th><th scope=col>Aug</th><th scope=col>Sep</th><th scope=col>Oct</th><th scope=col>Nov</th><th scope=col>Dec</th></tr>\n",
       "</thead>\n",
       "<tbody>\n",
       "\t<tr><th scope=row>2016</th><td>      NA</td><td>      NA</td><td>      NA</td><td>      NA</td><td>      NA</td><td>      NA</td><td>193.4708</td><td>190.6333</td><td>191.9083</td><td>199.4500</td><td>206.3292</td><td>211.7292</td></tr>\n",
       "\t<tr><th scope=row>2017</th><td>216.4250</td><td>219.4792</td><td>226.8208</td><td>243.3125</td><td>252.7583</td><td>256.2750</td><td>268.8500</td><td>287.0292</td><td>303.5583</td><td>314.8833</td><td>330.5458</td><td>345.5583</td></tr>\n",
       "\t<tr><th scope=row>2018</th><td>366.3875</td><td>385.2833</td><td>405.9542</td><td>424.5292</td><td>439.9667</td><td>465.8583</td><td>      NA</td><td>      NA</td><td>      NA</td><td>      NA</td><td>      NA</td><td>      NA</td></tr>\n",
       "</tbody>\n",
       "</table>\n"
      ],
      "text/latex": [
       "A Time Series: 3 × 12\n",
       "\\begin{tabular}{r|llllllllllll}\n",
       "  & Jan & Feb & Mar & Apr & May & Jun & Jul & Aug & Sep & Oct & Nov & Dec\\\\\n",
       "\\hline\n",
       "\t2016 &       NA &       NA &       NA &       NA &       NA &       NA & 193.4708 & 190.6333 & 191.9083 & 199.4500 & 206.3292 & 211.7292\\\\\n",
       "\t2017 & 216.4250 & 219.4792 & 226.8208 & 243.3125 & 252.7583 & 256.2750 & 268.8500 & 287.0292 & 303.5583 & 314.8833 & 330.5458 & 345.5583\\\\\n",
       "\t2018 & 366.3875 & 385.2833 & 405.9542 & 424.5292 & 439.9667 & 465.8583 &       NA &       NA &       NA &       NA &       NA &       NA\\\\\n",
       "\\end{tabular}\n"
      ],
      "text/markdown": [
       "\n",
       "A Time Series: 3 × 12\n",
       "\n",
       "| <!--/--> | Jan | Feb | Mar | Apr | May | Jun | Jul | Aug | Sep | Oct | Nov | Dec |\n",
       "|---|---|---|---|---|---|---|---|---|---|---|---|---|\n",
       "| 2016 |       NA |       NA |       NA |       NA |       NA |       NA | 193.4708 | 190.6333 | 191.9083 | 199.4500 | 206.3292 | 211.7292 |\n",
       "| 2017 | 216.4250 | 219.4792 | 226.8208 | 243.3125 | 252.7583 | 256.2750 | 268.8500 | 287.0292 | 303.5583 | 314.8833 | 330.5458 | 345.5583 |\n",
       "| 2018 | 366.3875 | 385.2833 | 405.9542 | 424.5292 | 439.9667 | 465.8583 |       NA |       NA |       NA |       NA |       NA |       NA |\n",
       "\n"
      ],
      "text/plain": [
       "     Jan      Feb      Mar      Apr      May      Jun      Jul      Aug     \n",
       "2016       NA       NA       NA       NA       NA       NA 193.4708 190.6333\n",
       "2017 216.4250 219.4792 226.8208 243.3125 252.7583 256.2750 268.8500 287.0292\n",
       "2018 366.3875 385.2833 405.9542 424.5292 439.9667 465.8583       NA       NA\n",
       "     Sep      Oct      Nov      Dec     \n",
       "2016 191.9083 199.4500 206.3292 211.7292\n",
       "2017 303.5583 314.8833 330.5458 345.5583\n",
       "2018       NA       NA       NA       NA"
      ]
     },
     "metadata": {},
     "output_type": "display_data"
    }
   ],
   "source": [
    "comp$trend"
   ]
  },
  {
   "cell_type": "markdown",
   "metadata": {},
   "source": [
    "Nhận xét: Trong trend, ta nhận thấy số lượng tre bán được tăng dần qua các năm"
   ]
  },
  {
   "cell_type": "code",
   "execution_count": 12,
   "metadata": {},
   "outputs": [
    {
     "data": {
      "text/html": [
       "<table class=\"dataframe\">\n",
       "<caption>A Time Series: 3 × 12</caption>\n",
       "<thead>\n",
       "\t<tr><th></th><th scope=col>Jan</th><th scope=col>Feb</th><th scope=col>Mar</th><th scope=col>Apr</th><th scope=col>May</th><th scope=col>Jun</th><th scope=col>Jul</th><th scope=col>Aug</th><th scope=col>Sep</th><th scope=col>Oct</th><th scope=col>Nov</th><th scope=col>Dec</th></tr>\n",
       "</thead>\n",
       "<tbody>\n",
       "\t<tr><th scope=row>2016</th><td>         NA</td><td>         NA</td><td>         NA</td><td>         NA</td><td>         NA</td><td>         NA</td><td>  35.377257</td><td>   3.435590</td><td>   2.062674</td><td> -96.845660</td><td>  92.896007</td><td> -16.497743</td></tr>\n",
       "\t<tr><th scope=row>2017</th><td>  -2.931076</td><td> -67.760243</td><td>  31.454340</td><td>   2.396007</td><td> -16.558160</td><td>  24.379340</td><td> -45.801910</td><td> -13.860243</td><td> -12.487326</td><td>  86.421007</td><td>-103.320660</td><td>   6.073090</td></tr>\n",
       "\t<tr><th scope=row>2018</th><td>  -7.493576</td><td>  57.335590</td><td> -41.878993</td><td> -12.820660</td><td>   6.133507</td><td> -34.803993</td><td>         NA</td><td>         NA</td><td>         NA</td><td>         NA</td><td>         NA</td><td>         NA</td></tr>\n",
       "</tbody>\n",
       "</table>\n"
      ],
      "text/latex": [
       "A Time Series: 3 × 12\n",
       "\\begin{tabular}{r|llllllllllll}\n",
       "  & Jan & Feb & Mar & Apr & May & Jun & Jul & Aug & Sep & Oct & Nov & Dec\\\\\n",
       "\\hline\n",
       "\t2016 &          NA &          NA &          NA &          NA &          NA &          NA &   35.377257 &    3.435590 &    2.062674 &  -96.845660 &   92.896007 &  -16.497743\\\\\n",
       "\t2017 &   -2.931076 &  -67.760243 &   31.454340 &    2.396007 &  -16.558160 &   24.379340 &  -45.801910 &  -13.860243 &  -12.487326 &   86.421007 & -103.320660 &    6.073090\\\\\n",
       "\t2018 &   -7.493576 &   57.335590 &  -41.878993 &  -12.820660 &    6.133507 &  -34.803993 &          NA &          NA &          NA &          NA &          NA &          NA\\\\\n",
       "\\end{tabular}\n"
      ],
      "text/markdown": [
       "\n",
       "A Time Series: 3 × 12\n",
       "\n",
       "| <!--/--> | Jan | Feb | Mar | Apr | May | Jun | Jul | Aug | Sep | Oct | Nov | Dec |\n",
       "|---|---|---|---|---|---|---|---|---|---|---|---|---|\n",
       "| 2016 |          NA |          NA |          NA |          NA |          NA |          NA |   35.377257 |    3.435590 |    2.062674 |  -96.845660 |   92.896007 |  -16.497743 |\n",
       "| 2017 |   -2.931076 |  -67.760243 |   31.454340 |    2.396007 |  -16.558160 |   24.379340 |  -45.801910 |  -13.860243 |  -12.487326 |   86.421007 | -103.320660 |    6.073090 |\n",
       "| 2018 |   -7.493576 |   57.335590 |  -41.878993 |  -12.820660 |    6.133507 |  -34.803993 |          NA |          NA |          NA |          NA |          NA |          NA |\n",
       "\n"
      ],
      "text/plain": [
       "     Jan         Feb         Mar         Apr         May         Jun        \n",
       "2016          NA          NA          NA          NA          NA          NA\n",
       "2017   -2.931076  -67.760243   31.454340    2.396007  -16.558160   24.379340\n",
       "2018   -7.493576   57.335590  -41.878993  -12.820660    6.133507  -34.803993\n",
       "     Jul         Aug         Sep         Oct         Nov         Dec        \n",
       "2016   35.377257    3.435590    2.062674  -96.845660   92.896007  -16.497743\n",
       "2017  -45.801910  -13.860243  -12.487326   86.421007 -103.320660    6.073090\n",
       "2018          NA          NA          NA          NA          NA          NA"
      ]
     },
     "metadata": {},
     "output_type": "display_data"
    }
   ],
   "source": [
    "comp$random"
   ]
  },
  {
   "cell_type": "markdown",
   "metadata": {},
   "source": [
    "Nhận xét: Ta nhận thấy ít biến động nhất là vào tháng 1, còn biến động nhiều nhất là vào tháng 11"
   ]
  },
  {
   "cell_type": "code",
   "execution_count": 13,
   "metadata": {},
   "outputs": [
    {
     "data": {
      "image/png": "[encoded data removed]",
      "text/plain": [
       "plot without title"
      ]
     },
     "metadata": {
      "image/png": {
       "height": 420,
       "width": 420
      }
     },
     "output_type": "display_data"
    }
   ],
   "source": [
    "plot(comp)"
   ]
  },
  {
   "cell_type": "markdown",
   "metadata": {},
   "source": [
    "Nhận xét: Có thể thấy từ biểu đồ này một chu kỳ mang tính mùa và xu hướng năm"
   ]
  },
  {
   "cell_type": "markdown",
   "metadata": {},
   "source": [
    "### 6. Thực hiện việc dự báo và vẽ biểu đồ so sánh với thực tiễn. "
   ]
  },
  {
   "cell_type": "code",
   "execution_count": 14,
   "metadata": {},
   "outputs": [
    {
     "name": "stdout",
     "output_type": "stream",
     "text": [
      "Holt-Winters exponential smoothing with trend and additive seasonal component.\n",
      "\n",
      "Call:\n",
      "HoltWinters(x = log(shampoo.timeseries))\n",
      "\n",
      "Smoothing parameters:\n",
      " alpha: 0.05066872\n",
      " beta : 1\n",
      " gamma: 0.568692\n",
      "\n",
      "Coefficients:\n",
      "           [,1]\n",
      "a    6.36782058\n",
      "b    0.03110626\n",
      "s1  -0.01458845\n",
      "s2  -0.03863011\n",
      "s3  -0.13592566\n",
      "s4   0.10722877\n",
      "s5  -0.15372675\n",
      "s6   0.02622189\n",
      "s7   0.09695719\n",
      "s8  -0.05735946\n",
      "s9   0.16155766\n",
      "s10 -0.08197106\n",
      "s11  0.07184074\n",
      "s12  0.04843316\n"
     ]
    }
   ],
   "source": [
    "shampoo.timeseries.forecasts = HoltWinters(log(shampoo.timeseries))\n",
    "print(shampoo.timeseries.forecasts)"
   ]
  },
  {
   "cell_type": "code",
   "execution_count": 15,
   "metadata": {},
   "outputs": [
    {
     "data": {
      "text/html": [
       "2.15300048723642"
      ],
      "text/latex": [
       "2.15300048723642"
      ],
      "text/markdown": [
       "2.15300048723642"
      ],
      "text/plain": [
       "[1] 2.153"
      ]
     },
     "metadata": {},
     "output_type": "display_data"
    },
    {
     "data": {
      "text/html": [
       "1.03754529714042"
      ],
      "text/latex": [
       "1.03754529714042"
      ],
      "text/markdown": [
       "1.03754529714042"
      ],
      "text/plain": [
       "[1] 1.037545"
      ]
     },
     "metadata": {},
     "output_type": "display_data"
    },
    {
     "data": {
      "text/html": [
       "5.63867145884326"
      ],
      "text/latex": [
       "5.63867145884326"
      ],
      "text/markdown": [
       "5.63867145884326"
      ],
      "text/plain": [
       "[1] 5.638671"
      ]
     },
     "metadata": {},
     "output_type": "display_data"
    },
    {
     "data": {
      "text/html": [
       "0.468019372399694"
      ],
      "text/latex": [
       "0.468019372399694"
      ],
      "text/markdown": [
       "0.468019372399694"
      ],
      "text/plain": [
       "[1] 0.4680194"
      ]
     },
     "metadata": {},
     "output_type": "display_data"
    }
   ],
   "source": [
    "shampoo.timeseries.forecasts$SSE\n",
    "sqrt(shampoo.timeseries.forecasts$SSE/length(shampoo))\n",
    "mean(log(shampoo.timeseries))\n",
    "sd(log(shampoo.timeseries))"
   ]
  },
  {
   "cell_type": "code",
   "execution_count": 22,
   "metadata": {},
   "outputs": [
    {
     "data": {
      "image/png": "[encoded data removed]",
      "text/plain": [
       "Plot with title \"Shampoo: observer vs forecast\""
      ]
     },
     "metadata": {
      "image/png": {
       "height": 420,
       "width": 420
      }
     },
     "output_type": "display_data"
    }
   ],
   "source": [
    "plot(shampoo.timeseries.forecasts, main=\"Shampoo: observer vs forecast\",\n",
    "     xlab=\"Year\",ylab=\"Sales\",xaxt=\"n\")\n",
    "axis(1,at=2016:2018,labels=c(2016:2018))"
   ]
  },
  {
   "cell_type": "markdown",
   "metadata": {},
   "source": [
    "### 7. Dự đoán lượng sales cho 6 tháng tiếp theo."
   ]
  },
  {
   "cell_type": "code",
   "execution_count": 17,
   "metadata": {},
   "outputs": [
    {
     "name": "stderr",
     "output_type": "stream",
     "text": [
      "Registered S3 method overwritten by 'quantmod':\n",
      "  method            from\n",
      "  as.zoo.data.frame zoo \n",
      "\n"
     ]
    },
    {
     "name": "stdout",
     "output_type": "stream",
     "text": [
      "[1] \"Next 6 months:\"\n",
      "         Point Forecast    Lo 80    Hi 80    Lo 95    Hi 95\n",
      "Jan 2019       6.384338 5.992252 6.776424 5.784695 6.983982\n",
      "Feb 2019       6.391403 5.997309 6.785497 5.788688 6.994118\n",
      "Mar 2019       6.325214 5.926639 6.723789 5.715646 6.934782\n",
      "Apr 2019       6.599474 6.193055 7.005894 5.977909 7.221040\n",
      "May 2019       6.369625 5.951243 6.788008 5.729764 7.009486\n",
      "Jun 2019       6.580680 6.145649 7.015711 5.915357 7.246003\n"
     ]
    }
   ],
   "source": [
    "shampoo.timeseries.forecasts2 = forecast:::forecast.HoltWinters(shampoo.timeseries.forecasts, h=6)\n",
    "print(\"Next 6 months:\")\n",
    "print(shampoo.timeseries.forecasts2)"
   ]
  },
  {
   "cell_type": "code",
   "execution_count": 25,
   "metadata": {},
   "outputs": [
    {
     "data": {
      "image/png": "[encoded data removed]",
      "text/plain": [
       "Plot with title \"Shampoo: observer vs forecast\""
      ]
     },
     "metadata": {
      "image/png": {
       "height": 420,
       "width": 420
      }
     },
     "output_type": "display_data"
    }
   ],
   "source": [
    "plot(shampoo.timeseries.forecasts2, main=\"Shampoo: observer vs forecast\",\n",
    "     xlab=\"Year\",ylab=\"Sales\",xaxt=\"n\")\n",
    "axis(1,at=2016.0:2019.5,labels=c(2016:2019))"
   ]
  },
  {
   "cell_type": "code",
   "execution_count": null,
   "metadata": {},
   "outputs": [],
   "source": []
  }
 ],
 "metadata": {
  "kernelspec": {
   "display_name": "R",
   "language": "R",
   "name": "ir"
  },
  "language_info": {
   "codemirror_mode": "r",
   "file_extension": ".r",
   "mimetype": "text/x-r-source",
   "name": "R",
   "pygments_lexer": "r",
   "version": "4.1.2"
  }
 },
 "nbformat": 4,
 "nbformat_minor": 4
}
